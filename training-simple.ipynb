{
 "cells": [
  {
   "cell_type": "markdown",
   "metadata": {},
   "source": [
    "# Simple training (no hyperparameter tuning)\n",
    "Tips and tricks: https://inclass.kaggle.com/c/deloitte-tackles-titanic/forums/t/9841/getting-high-scores-without-looking-at-actual-data-set"
   ]
  },
  {
   "cell_type": "code",
   "execution_count": 483,
   "metadata": {
    "collapsed": false
   },
   "outputs": [],
   "source": [
    "import pandas as pd\n",
    "import numpy as np\n",
    "import matplotlib.pyplot as plt\n",
    "from sklearn import ensemble, svm\n",
    "from sklearn import cross_validation\n",
    "from sklearn import preprocessing\n",
    "from sklearn import metrics\n",
    "\n",
    "#Plots config\n",
    "%matplotlib inline\n",
    "pd.set_option('display.mpl_style', 'default') # Make the graphs a bit prettier\n",
    "plt.rcParams['figure.figsize'] = (15, 5)"
   ]
  },
  {
   "cell_type": "code",
   "execution_count": 484,
   "metadata": {
    "collapsed": false
   },
   "outputs": [],
   "source": [
    "#Add plots module to path\n",
    "import sys\n",
    "sys.path.append('/Users/Edu/Development/open-source/sklearn-model-evaluation')\n",
    "import plots as p\n",
    "import helpers as h\n",
    "import report as r"
   ]
  },
  {
   "cell_type": "markdown",
   "metadata": {},
   "source": [
    "## Data loading"
   ]
  },
  {
   "cell_type": "code",
   "execution_count": 485,
   "metadata": {
    "collapsed": false
   },
   "outputs": [],
   "source": [
    "#Read the data\n",
    "train = pd.read_csv(\"train_clean.csv\", index_col='PassengerId')\n",
    "test = pd.read_csv('test_clean.csv', index_col='PassengerId')"
   ]
  },
  {
   "cell_type": "markdown",
   "metadata": {},
   "source": [
    "## Model training"
   ]
  },
  {
   "cell_type": "code",
   "execution_count": 486,
   "metadata": {
    "collapsed": false
   },
   "outputs": [],
   "source": [
    "#RandomForest\n",
    "rf = ensemble.RandomForestClassifier(n_jobs = -1,\n",
    "                                     bootstrap = True,\n",
    "                                     criterion = 'entropy',\n",
    "                                     max_features = 'log2',\n",
    "                                     n_estimators = 100)\n",
    "#AdaBoost\n",
    "ab = ensemble.AdaBoostClassifier(n_estimators = 10)\n",
    "#SVC\n",
    "svc = svm.SVC(C = 1000,\n",
    "              gamma = 0.001,\n",
    "              kernel = 'rbf')"
   ]
  },
  {
   "cell_type": "code",
   "execution_count": 487,
   "metadata": {
    "collapsed": false
   },
   "outputs": [],
   "source": [
    "#Prepare train and test features\n",
    "train_x = train.drop(['Survived'], axis=1).values\n",
    "test_x = test.values\n",
    "#Prepare train and test scaled features (for SVC)\n",
    "scaler = preprocessing.StandardScaler().fit(train_x)\n",
    "train_x_scaled = scaler.transform(train_x)\n",
    "test_x_scaled  = scaler.transform(test_x)\n",
    "#Prepare train outcome\n",
    "train_y = train['Survived']\n",
    "\n",
    "#Create feature list\n",
    "feature_list = list(train.drop(['Survived'], axis=1))"
   ]
  },
  {
   "cell_type": "code",
   "execution_count": 488,
   "metadata": {
    "collapsed": false
   },
   "outputs": [
    {
     "data": {
      "text/plain": [
       "RandomForestClassifier(bootstrap=True, class_weight=None, criterion='entropy',\n",
       "            max_depth=None, max_features='log2', max_leaf_nodes=None,\n",
       "            min_samples_leaf=1, min_samples_split=2,\n",
       "            min_weight_fraction_leaf=0.0, n_estimators=100, n_jobs=-1,\n",
       "            oob_score=False, random_state=None, verbose=0,\n",
       "            warm_start=False)"
      ]
     },
     "execution_count": 488,
     "metadata": {},
     "output_type": "execute_result"
    }
   ],
   "source": [
    "#Train random forest\n",
    "rf.fit(train_x, train_y)"
   ]
  },
  {
   "cell_type": "code",
   "execution_count": 489,
   "metadata": {
    "collapsed": false
   },
   "outputs": [
    {
     "data": {
      "text/plain": [
       "SVC(C=1000, cache_size=200, class_weight=None, coef0=0.0, degree=3,\n",
       "  gamma=0.001, kernel='rbf', max_iter=-1, probability=False,\n",
       "  random_state=None, shrinking=True, tol=0.001, verbose=False)"
      ]
     },
     "execution_count": 489,
     "metadata": {},
     "output_type": "execute_result"
    }
   ],
   "source": [
    "#Train svc\n",
    "svc.fit(train_x_scaled, train_y)"
   ]
  },
  {
   "cell_type": "code",
   "execution_count": 490,
   "metadata": {
    "collapsed": false
   },
   "outputs": [
    {
     "data": {
      "text/plain": [
       "AdaBoostClassifier(algorithm='SAMME.R', base_estimator=None,\n",
       "          learning_rate=1.0, n_estimators=10, random_state=None)"
      ]
     },
     "execution_count": 490,
     "metadata": {},
     "output_type": "execute_result"
    }
   ],
   "source": [
    "#Train adaboost\n",
    "ab.fit(train_x, train_y)"
   ]
  },
  {
   "cell_type": "markdown",
   "metadata": {},
   "source": [
    "## Predict on training set (using cross-validation)"
   ]
  },
  {
   "cell_type": "code",
   "execution_count": 491,
   "metadata": {
    "collapsed": true
   },
   "outputs": [],
   "source": [
    "#Since we are using all data for training, generate predictions\n",
    "#for evaluation using cross-validation\n",
    "rf_pred  = cross_validation.cross_val_predict(rf,\n",
    "                                              train_x,\n",
    "                                              train_y,\n",
    "                                              cv=5)"
   ]
  },
  {
   "cell_type": "code",
   "execution_count": 492,
   "metadata": {
    "collapsed": true
   },
   "outputs": [],
   "source": [
    "svc_pred = cross_validation.cross_val_predict(svc,\n",
    "                                              train_x_scaled,\n",
    "                                              train_y,\n",
    "                                              cv=5)"
   ]
  },
  {
   "cell_type": "code",
   "execution_count": 493,
   "metadata": {
    "collapsed": true
   },
   "outputs": [],
   "source": [
    "ab_pred  = cross_validation.cross_val_predict(ab,\n",
    "                                              train_x,\n",
    "                                              train_y,\n",
    "                                              cv=5)"
   ]
  },
  {
   "cell_type": "markdown",
   "metadata": {},
   "source": [
    "## Predicting scores on training set (using cross_validation)"
   ]
  },
  {
   "cell_type": "code",
   "execution_count": 494,
   "metadata": {
    "collapsed": true
   },
   "outputs": [],
   "source": [
    "rf_score  = cross_validation.cross_val_score(rf,\n",
    "                                            train_x,\n",
    "                                            train_y,\n",
    "                                            cv=5)"
   ]
  },
  {
   "cell_type": "markdown",
   "metadata": {},
   "source": [
    "## Model evaluation"
   ]
  },
  {
   "cell_type": "code",
   "execution_count": 495,
   "metadata": {
    "collapsed": false,
    "scrolled": false
   },
   "outputs": [
    {
     "name": "stdout",
     "output_type": "stream",
     "text": [
      "RandomForest\n",
      "             precision    recall  f1-score   support\n",
      "\n",
      "        0.0       0.83      0.86      0.84       549\n",
      "        1.0       0.76      0.72      0.74       342\n",
      "\n",
      "avg / total       0.80      0.80      0.80       891\n",
      "\n",
      "\n",
      "\n",
      "\n",
      "\n",
      "SVC\n",
      "             precision    recall  f1-score   support\n",
      "\n",
      "        0.0       0.85      0.88      0.86       549\n",
      "        1.0       0.79      0.76      0.77       342\n",
      "\n",
      "avg / total       0.83      0.83      0.83       891\n",
      "\n",
      "\n",
      "\n",
      "\n",
      "\n",
      "AdaBoost\n",
      "             precision    recall  f1-score   support\n",
      "\n",
      "        0.0       0.85      0.86      0.86       549\n",
      "        1.0       0.77      0.75      0.76       342\n",
      "\n",
      "avg / total       0.82      0.82      0.82       891\n",
      "\n"
     ]
    }
   ],
   "source": [
    "print(\"RandomForest\")\n",
    "print(metrics.classification_report(train_y, rf_pred))\n",
    "print(\"\\n\\n\\n\")\n",
    "\n",
    "print(\"SVC\")\n",
    "print(metrics.classification_report(train_y, svc_pred))\n",
    "print(\"\\n\\n\\n\")\n",
    "\n",
    "print(\"AdaBoost\")\n",
    "print(metrics.classification_report(train_y, ab_pred))"
   ]
  },
  {
   "cell_type": "code",
   "execution_count": 496,
   "metadata": {
    "collapsed": false
   },
   "outputs": [
    {
     "name": "stdout",
     "output_type": "stream",
     "text": [
      "RandomForest accuracy:\n",
      "0.804713804714\n",
      "\n",
      "SVC accuracy:\n",
      "0.830527497194\n",
      "\n",
      "AdaBoost accuracy:\n",
      "0.821548821549\n"
     ]
    }
   ],
   "source": [
    "#Compute accuracy (that's the evaluation metric \n",
    "#for this competition)\n",
    "print(\"RandomForest accuracy:\")\n",
    "print(metrics.accuracy_score(train_y, rf_pred))\n",
    "print(\"\\nSVC accuracy:\")\n",
    "print(metrics.accuracy_score(train_y, svc_pred))\n",
    "print(\"\\nAdaBoost accuracy:\")\n",
    "print(metrics.accuracy_score(train_y, ab_pred))"
   ]
  },
  {
   "cell_type": "markdown",
   "metadata": {},
   "source": [
    "## Feature importances"
   ]
  },
  {
   "cell_type": "code",
   "execution_count": 497,
   "metadata": {
    "collapsed": false
   },
   "outputs": [],
   "source": [
    "fig, table = p.feature_importance_plot(rf, feature_list)"
   ]
  },
  {
   "cell_type": "code",
   "execution_count": 498,
   "metadata": {
    "collapsed": false
   },
   "outputs": [
    {
     "name": "stdout",
     "output_type": "stream",
     "text": [
      "1. Fare (0) - 0.232725\n",
      "2. EstimatedAge (4) - 0.225211\n",
      "3. female (6) - 0.080155\n",
      "4. Mr (23) - 0.079438\n",
      "5. Pclass (2) - 0.058863\n",
      "6. male (7) - 0.055991\n",
      "7. FamSize (5) - 0.049206\n",
      "8. SibSp (3) - 0.032573\n",
      "9. deck_U (37) - 0.029388\n",
      "10. Parch (1) - 0.024546\n",
      "11. Mrs (24) - 0.019917\n",
      "12. Miss (20) - 0.019345\n",
      "13. embarked_S (10) - 0.013249\n",
      "14. embarked_C (8) - 0.012857\n",
      "15. deck_E (33) - 0.010464\n",
      "16. Master (19) - 0.009918\n",
      "17. embarked_Q (9) - 0.009327\n",
      "18. deck_C (31) - 0.007977\n",
      "19. deck_B (30) - 0.007291\n",
      "20. deck_D (32) - 0.006619\n",
      "21. deck_A (29) - 0.002628\n",
      "22. deck_F (34) - 0.002490\n",
      "23. Rev (26) - 0.002278\n",
      "24. Dr (15) - 0.001940\n",
      "25. deck_G (35) - 0.001426\n",
      "26. Capt (11) - 0.000861\n",
      "27. Don (13) - 0.000717\n",
      "28. Major (18) - 0.000691\n",
      "29. Col (12) - 0.000610\n",
      "30. deck_T (36) - 0.000367\n",
      "31. Jonkheer (16) - 0.000302\n",
      "32. Ms (25) - 0.000283\n",
      "33. Sir (27) - 0.000258\n",
      "34. Mlle (21) - 0.000036\n",
      "35. Lady (17) - 0.000033\n",
      "36. Mme (22) - 0.000015\n",
      "37. the Countess (28) - 0.000006\n",
      "38. Dona (14) - 0.000000\n"
     ]
    }
   ],
   "source": [
    "for idx,row in enumerate(table):\n",
    "    print(\"%d. %s (%d) - %f\" % (idx+1, row['name'], row['num'], row['importance']))"
   ]
  },
  {
   "cell_type": "code",
   "execution_count": 499,
   "metadata": {
    "collapsed": false
   },
   "outputs": [
    {
     "data": {
      "image/png": "[encoded data removed]",
      "text/plain": [
       "<matplotlib.figure.Figure at 0x113c43a10>"
      ]
     },
     "execution_count": 499,
     "metadata": {},
     "output_type": "execute_result"
    }
   ],
   "source": [
    "fig"
   ]
  },
  {
   "cell_type": "markdown",
   "metadata": {},
   "source": [
    "## Save to csv"
   ]
  },
  {
   "cell_type": "code",
   "execution_count": 500,
   "metadata": {
    "collapsed": true
   },
   "outputs": [],
   "source": [
    "#RandonForest\n",
    "rf_pred = rf.predict(test_x)\n",
    "#AdaBoost\n",
    "ab_pred = ab.predict(test_x)\n",
    "#SVC\n",
    "svc_pred = svc.predict(test_x_scaled)"
   ]
  },
  {
   "cell_type": "code",
   "execution_count": 501,
   "metadata": {
    "collapsed": true
   },
   "outputs": [],
   "source": [
    "result = pd.DataFrame(data={'PassengerId':test.index, 'Survived':rf_pred.astype('int')})\n",
    "result.to_csv(\"rf_result_simple.csv\", index=False)\n",
    "\n",
    "result = pd.DataFrame(data={'PassengerId':test.index, 'Survived':svc_pred.astype('int')})\n",
    "result.to_csv(\"svc_result_simple.csv\", index=False)\n",
    "\n",
    "result = pd.DataFrame(data={'PassengerId':test.index, 'Survived':ab_pred.astype('int')})\n",
    "result.to_csv(\"ab_result_simple.csv\", index=False)"
   ]
  },
  {
   "cell_type": "code",
   "execution_count": null,
   "metadata": {
    "collapsed": true
   },
   "outputs": [],
   "source": []
  }
 ],
 "metadata": {
  "kernelspec": {
   "display_name": "Python 2",
   "language": "python",
   "name": "python2"
  },
  "language_info": {
   "codemirror_mode": {
    "name": "ipython",
    "version": 2
   },
   "file_extension": ".py",
   "mimetype": "text/x-python",
   "name": "python",
   "nbconvert_exporter": "python",
   "pygments_lexer": "ipython2",
   "version": "2.7.10"
  }
 },
 "nbformat": 4,
 "nbformat_minor": 0
}
